{
 "cells": [
  {
   "cell_type": "code",
   "execution_count": null,
   "metadata": {},
   "outputs": [],
   "source": [
    "#This code will update a PDB file by changing atom names, while preserving PDB format. \n",
    "#Example use case: The commercially available unnatural amino acid thiazolylalanine, is incorporated into \n",
    "#a peptide, by first building the peptide with histidine as a starting off point to build upon (in Chimera, PyMOL, \n",
    "#Maestro, etc --pick your favorite softwar to build peptides). Then, we want to replace the histidine atom names\n",
    "#with the atom names you want (usually for purposes that another software can recognize your unnatural amino acid).\n"
   ]
  },
  {
   "cell_type": "code",
   "execution_count": null,
   "metadata": {},
   "outputs": [],
   "source": [
    "import numpy as np\n",
    "import os\n",
    "import glob\n",
    "from Bio.PDB import PDBIO\n",
    "import sys\n",
    "from Bio.PDB import PDBIO\n",
    "from Bio.PDB.PDBParser import PDBParser\n",
    "io = PDBIO()"
   ]
  },
  {
   "cell_type": "code",
   "execution_count": null,
   "metadata": {},
   "outputs": [],
   "source": [
    "#Path to already built, initial PDB files\n",
    "Path='/Users/yourpath'\n",
    "\n",
    "#good to see how many PDB files you want to change at once\n",
    "pdbfiles = []\n",
    "for file in glob.glob(\"*.pdb\"):\n",
    "    pdbfiles.append(file)\n",
    "    \n",
    "print(len(pdbfiles))"
   ]
  },
  {
   "cell_type": "code",
   "execution_count": null,
   "metadata": {},
   "outputs": [],
   "source": [
    "#Think about the \"rules\" you want. For example, to change the atoms in my modified histidine to thiazolylalanine, \n",
    "#1) replace \"HIS\" with \"TZA\", where TZA is my 3-lettter code for thiazolylalanine\n",
    "#2) replace \"CG\" with \"C2\"\n",
    "#3) replace \"CD\" with \"C4\"\n",
    "#4) replace \"CE\" with \"C3\"\n",
    "#5) replace \"SX\" with \"SS\"\n",
    "#6) replace last colun \"N1+\" with N1\n"
   ]
  },
  {
   "cell_type": "code",
   "execution_count": null,
   "metadata": {},
   "outputs": [],
   "source": [
    "for file in pdbfiles:\n",
    "    #for file, get the header and tail (usually PDB files have ATOM and TER entries)\n",
    "    with open(file) as f:\n",
    "        head_lines=[]\n",
    "        tail_lines=[]\n",
    "        lines = f.readlines()\n",
    "        tail=0\n",
    "        head=0\n",
    "        for line in lines:\n",
    "            if 'ATOM' not in line and 'TER' not in line and head==0:\n",
    "                head_lines.append(line)\n",
    "            if tail ==1:\n",
    "                tail_lines.append(line)\n",
    "            if 'TER' in line:\n",
    "                tail_lines.append(line)\n",
    "                tail=1\n",
    "                head=1\n",
    "    f.close()\n",
    "    #load the pdb parser\n",
    "    PDB_input = file\n",
    "    parser = PDBParser()\n",
    "    structure = parser.get_structure('self', PDB_input)\n",
    "    \n",
    "    first_residue = 0\n",
    "    encounter_n = 0\n",
    "    for model in structure:\n",
    "        for chain in model:\n",
    "            for residue in chain:\n",
    "                first_residue+=1\n",
    "                for atom in residue:\n",
    "                    if 0 < encounter_n < 5:\n",
    "                        if atom.name.startswith('C') and len(atom.name)>2:\n",
    "                            atom.fullname = ' C' + str(encounter_n)\n",
    "                        encounter_n += 1\n",
    "                    if residue.resname == 'HIS':\n",
    "                        if atom.name.startswith('S') and len(atom.name)>2:\n",
    "                            atom.fullname = ' S1'\n",
    "                        if atom.name.startswith('CD') and len(atom.name)>2:\n",
    "                            atom.fullname = ' C4'\n",
    "                        if atom.name.startswith('CE') and len(atom.name)>2:\n",
    "                            atom.fullname = ' C3'\n",
    "                        if atom.name.startswith('CG') and len(atom.name)>=2:\n",
    "                            atom.fullname = ' C2'\n",
    "                        if atom.name.startswith('ND') and len(atom.name)>2:\n",
    "                            atom.fullname = ' N2'\n",
    "                encounter_n = 0  \n",
    "    #saving\n",
    "    io.set_structure(structure)\n",
    "    io.save(Path+file[:-4]+'_middle.pdb')\n",
    "    \n",
    "    with open(Path+file[:-4]+'_middle.pdb','r') as contents:\n",
    "      save = contents.read()\n",
    "    with open(Path+file[:-4]+'_final.pdb','w') as contents:\n",
    "        for line in head_lines:\n",
    "            contents.write(line)\n",
    "        contents.write(save)\n",
    "        for line in tail_lines:\n",
    "            contents.write(line)\n",
    "    os.remove(Path+file[:-4]+'_middle.pdb')"
   ]
  },
  {
   "cell_type": "code",
   "execution_count": null,
   "metadata": {},
   "outputs": [],
   "source": [
    "#lastly, run these two SED commands on the terminal tab that has your saved, modified pdbs in to rename residues\n",
    "\n",
    "sed -i '' 's/HIS/TZA/g' *_final.pdb\n",
    "sed -i '' 's/N1+/N1/g' *_final.pdb\n"
   ]
  }
 ],
 "metadata": {
  "kernelspec": {
   "display_name": "Python 3",
   "language": "python",
   "name": "python3"
  },
  "language_info": {
   "codemirror_mode": {
    "name": "ipython",
    "version": 3
   },
   "file_extension": ".py",
   "mimetype": "text/x-python",
   "name": "python",
   "nbconvert_exporter": "python",
   "pygments_lexer": "ipython3",
   "version": "3.8.5"
  },
  "toc": {
   "base_numbering": 1,
   "nav_menu": {},
   "number_sections": true,
   "sideBar": true,
   "skip_h1_title": false,
   "title_cell": "Table of Contents",
   "title_sidebar": "Contents",
   "toc_cell": false,
   "toc_position": {},
   "toc_section_display": true,
   "toc_window_display": false
  }
 },
 "nbformat": 4,
 "nbformat_minor": 4
}
