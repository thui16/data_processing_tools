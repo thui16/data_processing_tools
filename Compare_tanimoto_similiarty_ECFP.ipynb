{
 "cells": [
  {
   "cell_type": "code",
   "execution_count": 1,
   "metadata": {},
   "outputs": [],
   "source": [
    "import numpy as np\n",
    "from os import path\n",
    "import os\n",
    "np.random.seed(12345)\n",
    "from scipy.stats import pearsonr\n",
    "import matplotlib.pyplot as plt\n",
    "import pandas as pd\n",
    "from rdkit.Chem import AllChem as Chem\n",
    "from rdkit.Chem import MACCSkeys\n",
    "from rdkit import DataStructs\n",
    "from rdkit.Chem import Draw\n",
    "import rdkit\n",
    "from rdkit.Chem import rdMolDescriptors as rdmd\n",
    "from rdkit import DataStructs"
   ]
  },
  {
   "cell_type": "code",
   "execution_count": 2,
   "metadata": {},
   "outputs": [],
   "source": [
    "def splitby_char(word):\n",
    "    return [char for char in word]"
   ]
  },
  {
   "cell_type": "code",
   "execution_count": 3,
   "metadata": {},
   "outputs": [
    {
     "name": "stdout",
     "output_type": "stream",
     "text": [
      "39\n"
     ]
    }
   ],
   "source": [
    "#Assign each of the 39 amino acids a fingerprint by\n",
    "#1) Retrieve the SMILES Isomeric CODE for each amino acid (from PubChem), \n",
    "#2) then make fingerprints for each using RDKIT.\n",
    "AAs_smileorder=[]\n",
    "AAs_smileorder=['G','V','v','A','a','N','n','S','s','R','r','D','d','F','f','M','m','H','h',\\\n",
    "                'I','i','L','l','K','k','T','t','W','w','C','c','Q','q','P','p','Y','y','E','e']\n",
    "SMILES = []\n",
    "aa_fingerprint = []\n",
    "\n",
    "SMILES.append('C(C(=O)O)N') # Glycine\n",
    "SMILES.append('CC(C)[C@@H](C(=O)O)N') # L Valine\n",
    "SMILES.append('CC(C)[C@H](C(=O)O)N') # D Valine\n",
    "SMILES.append('C[C@@H](C(=O)O)N') # L Alanine\n",
    "SMILES.append('C[C@H](C(=O)O)N') # D Alanine\n",
    "SMILES.append('C([C@@H](C(=O)O)N)C(=O)N') # L Asparagine\n",
    "SMILES.append('C([C@H](C(=O)O)N)C(=O)N') # D Asparagine\n",
    "SMILES.append('C([C@@H](C(=O)O)N)O') # L Serine\n",
    "SMILES.append('C([C@H](C(=O)O)N)O') # D Serine\n",
    "SMILES.append('C(C[C@@H](C(=O)O)N)C[NH+]=C(N)N') # L Arginine\n",
    "SMILES.append('C(C[C@H](C(=O)O)N)C[NH+]=C(N)N') # D Arginine\n",
    "SMILES.append('C([C@@H](C(=O)O)N)C(=O)[O-]') # L Aspartic Acid\n",
    "SMILES.append('C([C@H](C(=O)O)N)C(=O)[O-]') # D Aspartic Acid\n",
    "SMILES.append('C1=CC=C(C=C1)C[C@@H](C(=O)O)N') # L Phenylalanine\n",
    "SMILES.append('C1=CC=C(C=C1)C[C@H](C(=O)O)N') # D Phenylalanine\n",
    "SMILES.append('CSCC[C@@H](C(=O)O)N') #L Methionine\n",
    "SMILES.append('CSCC[C@H](C(=O)O)N') #D Methionine\n",
    "SMILES.append('C1=C(NC=N1)C[C@@H](C(=O)O)N') #L Histidine\n",
    "SMILES.append('C1=C(NC=N1)C[C@H](C(=O)O)N') #D Histidine\n",
    "SMILES.append('CC[C@H](C)[C@@H](C(=O)O)N') #L Isoleucine\n",
    "SMILES.append('CC[C@@H](C)[C@H](C(=O)O)N') #D Isoleucine\n",
    "SMILES.append('CC(C)C[C@@H](C(=O)O)N') #L Leucine\n",
    "SMILES.append('CC(C)C[C@H](C(=O)O)N') #D Leucine\n",
    "SMILES.append('C(CC[NH3+])C[C@@H](C(=O)O)N') #L Lysine\n",
    "SMILES.append('C(CC[NH3+])C[C@H](C(=O)O)N') #D Lysine\n",
    "SMILES.append('C[C@H]([C@@H](C(=O)O)N)O') #L Threonine\n",
    "SMILES.append('C[C@@H]([C@H](C(=O)O)N)O') #D Threonine\n",
    "SMILES.append('C1=CC=C2C(=C1)C(=CN2)C[C@@H](C(=O)O)N') #L Tryptophan\n",
    "SMILES.append('C1=CC=C2C(=C1)C(=CN2)C[C@H](C(=O)O)N') #D Tryptophan\n",
    "SMILES.append('C([C@@H](C(=O)O)N)S') #L Cysteine\n",
    "SMILES.append('C([C@H](C(=O)O)N)S') #D Cysteine\n",
    "SMILES.append('C(CC(=O)N)[C@@H](C(=O)O)N') #L Glutamine\n",
    "SMILES.append('C(CC(=O)N)[C@H](C(=O)O)N') #D Glutamine\n",
    "SMILES.append('C1C[C@H](NC1)C(=O)O') #L Proline\n",
    "SMILES.append('C1C[C@@H](NC1)C(=O)O') #D Proline\n",
    "SMILES.append('C1=CC(=CC=C1C[C@@H](C(=O)O)N)O') #L Tyrosine\n",
    "SMILES.append('C1=CC(=CC=C1C[C@H](C(=O)O)N)O') #D Tyrosine\n",
    "SMILES.append('C(CC(=O)[O-])[C@@H](C(=O)O)N') #L Glutamic Acid\n",
    "SMILES.append('C(CC(=O)[O-])[C@H](C(=O)O)N') #D Glutamic Acid\n",
    "\n",
    "\n",
    "#Store bit info here, which we can use to trace back the observed substructures\n",
    "bi = {}\n",
    "for code in SMILES:\n",
    "    bi[code] = {}\n",
    "\n",
    "for code in SMILES:\n",
    "    mol = Chem.MolFromSmiles(code)\n",
    "    fp = Chem.GetMorganFingerprintAsBitVect(mol, useChirality=True, radius=3, nBits = 2048, bitInfo=bi[code])\n",
    "    vector = np.array(fp)\n",
    "    aa_fingerprint.append(vector)\n",
    "\n",
    "#Create AA dictionary\n",
    "AA_dict=dict()\n",
    "for i in range(len(AAs_smileorder)):\n",
    "    AA_dict[AAs_smileorder[i]]=np.array(aa_fingerprint[i])\n",
    "    \n",
    "print(len(AA_dict))"
   ]
  },
  {
   "cell_type": "code",
   "execution_count": 4,
   "metadata": {},
   "outputs": [
    {
     "name": "stdout",
     "output_type": "stream",
     "text": [
      "(39, 2048)\n"
     ]
    }
   ],
   "source": [
    "#Store the keys in a list, then into an array which will be N_amino acids by 2048 (bc 2048-bit vector)\n",
    "AA_names=list(AA_dict.keys())\n",
    "\n",
    "X=np.array(list(AA_dict.values()))\n",
    "print(np.shape(X))"
   ]
  },
  {
   "cell_type": "code",
   "execution_count": 5,
   "metadata": {},
   "outputs": [],
   "source": [
    "train_df_X = pd.DataFrame(X)\n",
    "train_df_X.index = AA_names"
   ]
  },
  {
   "cell_type": "code",
   "execution_count": 6,
   "metadata": {
    "scrolled": true
   },
   "outputs": [],
   "source": [
    "#Calculate similairty matrix (but only lower triangle because it's symmetric)\n",
    "from collections import Counter\n",
    "sim_list = []\n",
    "for i,seq in enumerate(AA_names):\n",
    "    #print(i)\n",
    "    seq_sim = []\n",
    "    for j in range(0, len(train_df_X)):\n",
    "        if (i < j):\n",
    "            seq_sim.append(0)\n",
    "        elif seq == train_df_X.index[j]:\n",
    "            seq_sim.append(1)\n",
    "        else:\n",
    "            a = np.array(train_df_X.loc[seq,:])\n",
    "            b = np.array(train_df_X.iloc[j,:])\n",
    "            c = (a+b)//2\n",
    "            seq_sim.append(c.sum()/(a.sum()+b.sum()-c.sum()))\n",
    "    sim_list.append(seq_sim)"
   ]
  },
  {
   "cell_type": "code",
   "execution_count": 7,
   "metadata": {},
   "outputs": [
    {
     "name": "stdout",
     "output_type": "stream",
     "text": [
      "[[1.         0.25       0.25       ... 0.17647059 0.22222222 0.22222222]\n",
      " [0.25       1.         0.57894737 ... 0.21621622 0.26666667 0.26666667]\n",
      " [0.25       0.57894737 1.         ... 0.21621622 0.26666667 0.26666667]\n",
      " ...\n",
      " [0.17647059 0.21621622 0.21621622 ... 1.         0.23255814 0.29268293]\n",
      " [0.22222222 0.26666667 0.26666667 ... 0.23255814 1.         0.53333333]\n",
      " [0.22222222 0.26666667 0.26666667 ... 0.29268293 0.53333333 1.        ]]\n"
     ]
    }
   ],
   "source": [
    "X = np.array(sim_list) + np.array(sim_list).T - np.diag(np.diag(np.array(sim_list)))\n",
    "print(X)"
   ]
  },
  {
   "cell_type": "code",
   "execution_count": 8,
   "metadata": {},
   "outputs": [
    {
     "data": {
      "image/png": "[encoded data removed]",
      "text/plain": [
       "<Figure size 720x576 with 2 Axes>"
      ]
     },
     "metadata": {
      "needs_background": "light"
     },
     "output_type": "display_data"
    }
   ],
   "source": [
    "import seaborn as sns\n",
    "plt.figure(figsize=(10,8))\n",
    "\n",
    "x_axis_labels = AA_names\n",
    "y_axis_labels = AA_names\n",
    "ax=sns.heatmap(X, vmin=0, vmax=1,annot=False,xticklabels=x_axis_labels, yticklabels=y_axis_labels,\\\n",
    "              cmap=\"jet\")\n",
    "plt.yticks(rotation=0)\n",
    "plt.show()\n"
   ]
  },
  {
   "cell_type": "code",
   "execution_count": null,
   "metadata": {},
   "outputs": [],
   "source": []
  }
 ],
 "metadata": {
  "kernelspec": {
   "display_name": "Python [conda env:rdkit-env]",
   "language": "python",
   "name": "conda-env-rdkit-env-py"
  },
  "language_info": {
   "codemirror_mode": {
    "name": "ipython",
    "version": 3
   },
   "file_extension": ".py",
   "mimetype": "text/x-python",
   "name": "python",
   "nbconvert_exporter": "python",
   "pygments_lexer": "ipython3",
   "version": "3.9.7"
  },
  "toc": {
   "base_numbering": 1,
   "nav_menu": {},
   "number_sections": true,
   "sideBar": true,
   "skip_h1_title": false,
   "title_cell": "Table of Contents",
   "title_sidebar": "Contents",
   "toc_cell": false,
   "toc_position": {
    "height": "calc(100% - 180px)",
    "left": "10px",
    "top": "150px",
    "width": "316.719px"
   },
   "toc_section_display": true,
   "toc_window_display": false
  }
 },
 "nbformat": 4,
 "nbformat_minor": 4
}
